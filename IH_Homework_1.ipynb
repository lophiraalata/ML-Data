{
  "nbformat": 4,
  "nbformat_minor": 0,
  "metadata": {
    "colab": {
      "name": "IH_Homework 1.ipynb",
      "provenance": [],
      "collapsed_sections": [],
      "include_colab_link": true
    },
    "kernelspec": {
      "name": "python3",
      "display_name": "Python 3"
    },
    "language_info": {
      "name": "python"
    }
  },
  "cells": [
    {
      "cell_type": "markdown",
      "metadata": {
        "id": "view-in-github",
        "colab_type": "text"
      },
      "source": [
        "<a href=\"https://colab.research.google.com/github/lophiraalata/ML-Data/blob/main/IH_Homework_1.ipynb\" target=\"_parent\"><img src=\"https://colab.research.google.com/assets/colab-badge.svg\" alt=\"Open In Colab\"/></a>"
      ]
    },
    {
      "cell_type": "markdown",
      "source": [
        "# Answer all the questions!"
      ],
      "metadata": {
        "id": "FkJsXd8D06Rp"
      }
    },
    {
      "cell_type": "markdown",
      "source": [
        "##Write a Python program to get the volume of a sphere with radius 6"
      ],
      "metadata": {
        "id": "elOgKZR009ex"
      }
    },
    {
      "cell_type": "code",
      "source": [
        "n = int(input(\"Enter radius: \"))\n",
        "print((4/3) * 3.14159 * n ** 3)\n",
        "\n",
        "# calculates and prints the volume of a sphere using a given radius\n",
        "# input: int\n",
        "# output: float"
      ],
      "metadata": {
        "colab": {
          "base_uri": "https://localhost:8080/"
        },
        "id": "BGMi2JFFjXkH",
        "outputId": "aee96740-f232-4945-eecd-153e12e3570e"
      },
      "execution_count": 18,
      "outputs": [
        {
          "output_type": "stream",
          "name": "stdout",
          "text": [
            "Enter radius: 6\n",
            "904.7779199999999\n"
          ]
        }
      ]
    },
    {
      "cell_type": "markdown",
      "source": [
        "##Write a Python program to find whether a given number (accept from the user) is even or odd"
      ],
      "metadata": {
        "id": "OuX7aazu09X1"
      }
    },
    {
      "cell_type": "code",
      "source": [
        "num = int(input(\"Enter a number: \"))\n",
        "if num % 2 != 0:\n",
        "  print(\"this number is odd\")\n",
        "else:\n",
        "  print(\"this number is even\")\n",
        "  # tells whether a given number is even (divisible by 2 with no remainder) or odd (not divisible by 2)\n",
        "  # input: int\n",
        "  # output: string"
      ],
      "metadata": {
        "id": "vcYhNNaU09Uz",
        "colab": {
          "base_uri": "https://localhost:8080/"
        },
        "outputId": "723a2e3c-b960-4d1c-ecf2-9ba9fb9e206d"
      },
      "execution_count": 47,
      "outputs": [
        {
          "output_type": "stream",
          "name": "stdout",
          "text": [
            "Enter a number: 55\n",
            "this number is odd\n"
          ]
        }
      ]
    },
    {
      "cell_type": "markdown",
      "source": [
        "##Write a Python program to count the number 4 in a given list"
      ],
      "metadata": {
        "id": "NP5TZKqO09Rr"
      }
    },
    {
      "cell_type": "code",
      "source": [
        "my_list = [1, 2, 3, 4, 5, 6, 5, 4, 3, 2, 1]\n",
        "count(4)"
      ],
      "metadata": {
        "id": "oWZ3vTfW09Oh",
        "colab": {
          "base_uri": "https://localhost:8080/",
          "height": 187
        },
        "outputId": "1ce9d554-af24-41dd-c325-65537a095ea2"
      },
      "execution_count": 10,
      "outputs": [
        {
          "output_type": "error",
          "ename": "NameError",
          "evalue": "ignored",
          "traceback": [
            "\u001b[0;31m---------------------------------------------------------------------------\u001b[0m",
            "\u001b[0;31mNameError\u001b[0m                                 Traceback (most recent call last)",
            "\u001b[0;32m<ipython-input-10-1ca3d62f68a8>\u001b[0m in \u001b[0;36m<module>\u001b[0;34m()\u001b[0m\n\u001b[1;32m      1\u001b[0m \u001b[0mmy_list\u001b[0m \u001b[0;34m=\u001b[0m \u001b[0;34m[\u001b[0m\u001b[0;36m1\u001b[0m\u001b[0;34m,\u001b[0m \u001b[0;36m2\u001b[0m\u001b[0;34m,\u001b[0m \u001b[0;36m3\u001b[0m\u001b[0;34m,\u001b[0m \u001b[0;36m4\u001b[0m\u001b[0;34m,\u001b[0m \u001b[0;36m5\u001b[0m\u001b[0;34m,\u001b[0m \u001b[0;36m6\u001b[0m\u001b[0;34m,\u001b[0m \u001b[0;36m5\u001b[0m\u001b[0;34m,\u001b[0m \u001b[0;36m4\u001b[0m\u001b[0;34m,\u001b[0m \u001b[0;36m3\u001b[0m\u001b[0;34m,\u001b[0m \u001b[0;36m2\u001b[0m\u001b[0;34m,\u001b[0m \u001b[0;36m1\u001b[0m\u001b[0;34m]\u001b[0m\u001b[0;34m\u001b[0m\u001b[0;34m\u001b[0m\u001b[0m\n\u001b[0;32m----> 2\u001b[0;31m \u001b[0mcount\u001b[0m\u001b[0;34m(\u001b[0m\u001b[0;36m4\u001b[0m\u001b[0;34m)\u001b[0m\u001b[0;34m\u001b[0m\u001b[0;34m\u001b[0m\u001b[0m\n\u001b[0m",
            "\u001b[0;31mNameError\u001b[0m: name 'count' is not defined"
          ]
        }
      ]
    },
    {
      "cell_type": "code",
      "source": [
        ""
      ],
      "metadata": {
        "id": "1RecpXHelxR4"
      },
      "execution_count": null,
      "outputs": []
    },
    {
      "cell_type": "code",
      "source": [
        ""
      ],
      "metadata": {
        "id": "U-H33hgplxPg"
      },
      "execution_count": null,
      "outputs": []
    },
    {
      "cell_type": "markdown",
      "source": [
        "##Write a Python program that will accept the base and height of a triangle and compute the area"
      ],
      "metadata": {
        "id": "IK0FvUoa1MJG"
      }
    },
    {
      "cell_type": "code",
      "source": [
        "base = int(input(\"enter triangle base: \"))\n",
        "height = int(input(\"enter triangle height: \"))\n",
        "area = ((base * height) / 2)\n",
        "print(area)\n",
        "\n",
        "# accepts the base and height of a triangle as integers and computes the area"
      ],
      "metadata": {
        "id": "G02dv4rh1MFs",
        "colab": {
          "base_uri": "https://localhost:8080/"
        },
        "outputId": "f3f3baa1-7ab3-4251-98e6-8fd5256964fb"
      },
      "execution_count": 9,
      "outputs": [
        {
          "output_type": "stream",
          "name": "stdout",
          "text": [
            "enter triangle base: 5\n",
            "enter triangle height: 6\n",
            "15.0\n"
          ]
        }
      ]
    },
    {
      "cell_type": "markdown",
      "source": [
        "##Write a Python program to convert the distance (in feet) to inches, yards, and miles."
      ],
      "metadata": {
        "id": "sOkeycZk1L5-"
      }
    },
    {
      "cell_type": "code",
      "source": [
        "def convert_distance(num)\n"
      ],
      "metadata": {
        "id": "YtW-ZxqB1L2c"
      },
      "execution_count": null,
      "outputs": []
    },
    {
      "cell_type": "code",
      "source": [
        ""
      ],
      "metadata": {
        "id": "AcG7VeN_lwbt"
      },
      "execution_count": null,
      "outputs": []
    },
    {
      "cell_type": "code",
      "source": [
        ""
      ],
      "metadata": {
        "id": "6o6VbMghlwY2"
      },
      "execution_count": null,
      "outputs": []
    }
  ]
}